{
  "nbformat": 4,
  "nbformat_minor": 0,
  "metadata": {
    "colab": {
      "name": "GraphParser_PPOD.ipynb",
      "provenance": [],
      "collapsed_sections": []
    },
    "kernelspec": {
      "name": "python3",
      "display_name": "Python 3"
    },
    "language_info": {
      "name": "python"
    }
  },
  "cells": [
    {
      "cell_type": "code",
      "execution_count": null,
      "metadata": {
        "colab": {
          "base_uri": "https://localhost:8080/"
        },
        "id": "vatWPqZg1Eac",
        "outputId": "6977b549-e916-44ae-86a1-e90a5e67e99a"
      },
      "outputs": [
        {
          "output_type": "stream",
          "name": "stdout",
          "text": [
            "Looking in indexes: https://pypi.org/simple, https://us-python.pkg.dev/colab-wheels/public/simple/\n",
            "Collecting rdflib\n",
            "  Downloading rdflib-6.1.1-py3-none-any.whl (482 kB)\n",
            "\u001b[K     |████████████████████████████████| 482 kB 5.3 MB/s \n",
            "\u001b[?25hCollecting isodate\n",
            "  Downloading isodate-0.6.1-py2.py3-none-any.whl (41 kB)\n",
            "\u001b[K     |████████████████████████████████| 41 kB 212 kB/s \n",
            "\u001b[?25hRequirement already satisfied: importlib-metadata in /usr/local/lib/python3.7/dist-packages (from rdflib) (4.11.4)\n",
            "Requirement already satisfied: pyparsing in /usr/local/lib/python3.7/dist-packages (from rdflib) (3.0.9)\n",
            "Requirement already satisfied: setuptools in /usr/local/lib/python3.7/dist-packages (from rdflib) (57.4.0)\n",
            "Requirement already satisfied: typing-extensions>=3.6.4 in /usr/local/lib/python3.7/dist-packages (from importlib-metadata->rdflib) (4.2.0)\n",
            "Requirement already satisfied: zipp>=0.5 in /usr/local/lib/python3.7/dist-packages (from importlib-metadata->rdflib) (3.8.0)\n",
            "Requirement already satisfied: six in /usr/local/lib/python3.7/dist-packages (from isodate->rdflib) (1.15.0)\n",
            "Installing collected packages: isodate, rdflib\n",
            "Successfully installed isodate-0.6.1 rdflib-6.1.1\n"
          ]
        }
      ],
      "source": [
        "!pip install rdflib"
      ]
    },
    {
      "cell_type": "code",
      "source": [
        "import gspread\n",
        "import pandas as pd\n",
        "import binascii\n",
        "import rdflib\n",
        "from pprint import pprint\n",
        "import networkx as nx\n",
        "from rdflib.extras.external_graph_libs import rdflib_to_networkx_graph\n"
      ],
      "metadata": {
        "id": "ZD2HE6dh1Lb3"
      },
      "execution_count": null,
      "outputs": []
    },
    {
      "cell_type": "code",
      "source": [
        "from google.colab import drive\n",
        "drive.mount('/content/gdrive')"
      ],
      "metadata": {
        "colab": {
          "base_uri": "https://localhost:8080/"
        },
        "id": "eCLGQkiM3G0W",
        "outputId": "6bf019c3-2b84-4256-eb62-d51cf44058c3"
      },
      "execution_count": null,
      "outputs": [
        {
          "output_type": "stream",
          "name": "stdout",
          "text": [
            "Mounted at /content/gdrive\n"
          ]
        }
      ]
    },
    {
      "cell_type": "code",
      "source": [
        "auxprefix = 'https://raw.githubusercontent.com/adhollander/FSLschemas/main/CA_PPODterms.ttl#' # one of these days we'll have a better namespace but at least this is accessible\n",
        "rdfsuri = \"http://www.w3.org/2000/01/rdf-schema#\"\n",
        "rdfuri = \"http://www.w3.org/1999/02/22-rdf-syntax-ns#\"\n",
        "fslsprefix = \"https://raw.githubusercontent.com/adhollander/FSLschemas/main/fsisupp.owl#\""
      ],
      "metadata": {
        "id": "Xt-I1BIv3tRi"
      },
      "execution_count": null,
      "outputs": []
    },
    {
      "cell_type": "code",
      "source": [
        "PPODrefs = {'Organizations': 'http://xmlns.com/foaf/0.1/Organization',\n",
        "            'Projects': 'http://vivoweb.org/ontology/core#Project',\n",
        "            'Programs': 'http://vivoweb.org/ontology/core#Program',\n",
        "            'People': 'http://xmlns.com/foaf/0.1/Person',\n",
        "            'Guidelines_Mandates':'http://www.sdsconsortium.org/schemas/sds-okn.owl#BestPracticesAndMandates',\n",
        "            'Datasets': 'http://vivoweb.org/ontology/core#Dataset',\n",
        "            'Tools': 'http://www.sdsconsortium.org/schemas/sds-okn.owl#Tool',\n",
        "            'Issues (Integrated)': 'https://raw.githubusercontent.com/adhollander/FSLschemas/main/sustsource.owl#IntegratedIssue',\n",
        "            'Issues (Component)': 'https://raw.githubusercontent.com/adhollander/FSLschemas/main/sustsource.owl#ComponentIssue'\n",
        "           }\n"
      ],
      "metadata": {
        "id": "6Em5q4sc_CRB"
      },
      "execution_count": null,
      "outputs": []
    },
    {
      "cell_type": "code",
      "source": [
        "# We now want dictionaries for all our lists of properties associated with each major type.\n",
        "# These will give a tuple of (Data \"d\" or Object property \"o\" (internal), \"u\" object property (URL), \"v\" - object property internal vocab) \n",
        "# URI for property, label string for property, either name of dictionary (string) for 'v' or hash code prefix for 'o'),\n",
        "# then 's' or 'm' for comma-delimiting string split\n",
        "# to repeat: ([d|o|v|u], property URI, property label, string for dictionary name or prefix, '[s|m]')\n",
        "# There is one of these dictionaries for every sheet in the overall google spreadsheet\n",
        "# Organization predicates dictionary\n",
        "# The key in each entry in this dictionary is the column label in the sheet, the value\n",
        "# is the tuple described above characterizing each property and its URI\n",
        "orgpred = {\"Organization\": ('d', 'http://purl.org/dc/terms/title', 'title', '', 's'),\n",
        "            \"Alias\": ('d', 'http://www.w3.org/2004/02/skos/core#alias', 'alias', '', 's'),\n",
        "            \"isPartOf\": ('o', 'http://purl.org/dc/terms/is_part_of', 'is part of', 'org','m'),\n",
        "          \"isMemberOf\": ('o', 'http://www.w3.org/ns/org#is_member_of', 'is member of', 'org', 'm'),\n",
        "           # for county, will change the URI at some point\n",
        "          \"County\": ('v', 'https://raw.githubusercontent.com/adhollander/FSLschemas/main/fsisupp.owl#in_county', 'in county', 'countydict', 'm'),\n",
        "           \"Ecoregion\": ('v', 'https://raw.githubusercontent.com/adhollander/FSLschemas/main/fsisupp.owl#in_ecoregion', 'in ecoregion', 'ecoregiondict','m'),\n",
        "           \"hasGeography\": ('v', 'https://raw.githubusercontent.com/adhollander/FSLschemas/main/fsisupp.owl#associated_geography', 'associated geography', 'geofeaturedict','m'),\n",
        "          \"hasOrgType\": ('v', 'http://www.w3.org/ns/org#organization_type', 'organization type', 'orgtypedict', 'm'),\n",
        "          \"Partners\": ('o', 'http://vivoweb.org/ontology/core#has_collaborator', 'has partner', 'org', 'm'),\n",
        "            \"Funding\": ('o', 'http://purl.org/cerif/frapo/is_funded_by', 'is funded by', 'org','m'),\n",
        "           \"hasOrgActivity\": ('v', 'http://purl.obolibrary.org/obo/participate_in', 'participates in','orgactivitydict', 'm'),\n",
        "           \"Issues\": ('v', 'https://raw.githubusercontent.com/adhollander/FSLschemas/main/fsisupp.owl#related_sustainability_issue', 'related sustainability issue', 'issuedict', 'm'), # need to agglom comp and int issues\n",
        "           \"URL\": ('u', 'http://dev.poderopedia.com/vocab/has_url', 'has URL', '', 'm'),\n",
        "           \"Contact\": ('d', 'http://vivoweb.org/ontology/core#contact_info', 'contact', '','s'),\n",
        "           # taxa should be an object property at some point, but for assume content is a string\n",
        "           \"Taxa\": ('d', 'https://raw.githubusercontent.com/adhollander/FSLschemas/main/fsisupp.owl#taxa', 'taxa', '','m'),\n",
        "           \"Land Cover - CWHR\": ('v', 'https://raw.githubusercontent.com/adhollander/FSLschemas/main/fsisupp.owl#habitat_type', 'habitat type', 'habtypedict', 'm'), # need to build this\n",
        "            \"Commodity\": ('v', 'https://raw.githubusercontent.com/adhollander/FSLschemas/main/fsisupp.owl#commodity', 'commodity', 'commoditydict','m'),\n",
        "           \"Ecological Process\": ('d', 'https://raw.githubusercontent.com/adhollander/FSLschemas/main/fsisupp.owl#ecological_process', 'ecological process', '','s'),\n",
        "           \"GM_Name\": ('o', 'https://raw.githubusercontent.com/adhollander/FSLschemas/main/fsisupp.owl#guideline_mandate_name', 'guideline/mandate name', 'gmt', 'm'),\n",
        "           \"usecaseConservation\": ('d', 'https://raw.githubusercontent.com/adhollander/FSLschemas/main/fsisupp.owl#use_case_conservation', 'use case: Conservation', '', 's'),\n",
        "           \"usecaseMeat\": ('d', 'https://raw.githubusercontent.com/adhollander/FSLschemas/main/fsisupp.owl#use_case_meat', 'use case: meat', '', 's'),\n",
        "           \"usecaseSac\": ('d', 'https://raw.githubusercontent.com/adhollander/FSLschemas/main/fsisupp.owl#use_case_sacramento', 'use case: Sacramento', '', 's'),\n",
        "           \"usecaseSCAG\": ('d', 'https://raw.githubusercontent.com/adhollander/FSLschemas/main/fsisupp.owl#use_case_SCAG', 'use case: SCAG', '', 's'),\n",
        "           \"usecaseEcuador\": ('d', 'https://raw.githubusercontent.com/adhollander/FSLschemas/main/fsisupp.owl#use_case_ecuador', 'use case: Ecuador', '', 's')\n",
        "          }\n"
      ],
      "metadata": {
        "id": "j4luJS7C_KCR"
      },
      "execution_count": null,
      "outputs": []
    },
    {
      "cell_type": "code",
      "source": [
        "projpred = {\"Project\": ('d', 'http://xmlns.com/foaf/0.1/Project', 'project', '','s'),\n",
        "            \"Alias\": ('d', 'http://www.w3.org/2004/02/skos/core#alias', 'alias', '', 's'),\n",
        "            \"isPartOf\": ('o', 'http://purl.org/dc/terms/is_part_of', 'is part of', 'prj','m'),\n",
        "            \"ProjType\": ('v', 'https://raw.githubusercontent.com/adhollander/FSLschemas/main/fsisupp.owl#project_type', 'project type', 'projtypedict', 'm'),\n",
        "            \"ProjProg\": ('o', 'http://purl.obolibrary.org/obo/occurs_in', 'occurs in', 'prg','m'),\n",
        "            \"Organization (Lead)\": ('o', 'https://raw.githubusercontent.com/adhollander/FSLschemas/main/fsisupp.owl#lead_organization', 'lead organization', 'org', 'm'),\n",
        "            \"Organization (Funding)\": ('o', 'http://vivoweb.org/ontology/core#funding_organization', 'funding organization', 'org', 'm'),\n",
        "            \"OrgFundProg\": ('o', 'http://vivoweb.org/ontology/core#funding_provided_via', 'funding provided via', 'prg','m'),\n",
        "            \"Lead Individual\": ('d', 'https://raw.githubusercontent.com/adhollander/FSLschemas/main/fsisupp.owl#lead_individual', 'lead individual', '', 's'),\n",
        "            \"Partners\": ('o', 'http://vivoweb.org/ontology/core#affiliated_organization', 'partner organization', 'org', 'm'),\n",
        "            \"Location\": ('d', 'http://purl.obolibrary.org/obo/located_in', 'located in', '', 's'),\n",
        "            \"County\": ('v', 'https://raw.githubusercontent.com/adhollander/FSLschemas/main/fsisupp.owl#in_county', 'in county', 'countydict', 'm'),\n",
        "            \"Ecoregion\": ('v', 'https://raw.githubusercontent.com/adhollander/FSLschemas/main/fsisupp.owl#in_ecoregion', 'in ecoregion', 'ecoregiondict', 'm'),\n",
        "            \"Watershed\": ('d', 'https://raw.githubusercontent.com/adhollander/FSLschemas/main/fsisupp.owl#in_watershed', 'in watershed', '', 's'),\n",
        "            \"Issues\": ('v', 'https://raw.githubusercontent.com/adhollander/FSLschemas/main/fsisupp.owl#related_sustainability_issue', 'related sustainability issue', 'issuedict', 'm'),\n",
        "            \"has description\": ('u', 'https://raw.githubusercontent.com/adhollander/FSLschemas/main/fsisupp.owl#project_detail', 'project details', '', 's'),\n",
        "            \"Indicators\": ('d', 'https://raw.githubusercontent.com/adhollander/FSLschemas/main/fsisupp.owl#has_indicator', 'has indicator', '', 's'),\n",
        "            \"inDataset\": ('o', 'http://purl.obolibrary.org/obo/input_of', 'input of', 'dts', 'm'),\n",
        "            \"outDataset\": ('o', 'http://purl.obolibrary.org/obo/output_of', 'output of', 'dts', 'm'),\n",
        "            \"Strategies\": ('d', 'https://raw.githubusercontent.com/adhollander/FSLschemas/main/fsisupp.owl#has_strategy', 'has strategy', '', 'm'),\n",
        "            \"URL\": ('u', 'http://dev.poderopedia.com/vocab/has_url', 'has URL', '', 'm'),\n",
        "            \"Taxa\": ('d', 'https://raw.githubusercontent.com/adhollander/FSLschemas/main/fsisupp.owl#taxa', 'taxa', '', 'm'),\n",
        "            \"Land Cover - CWHR\": ('v', 'https://raw.githubusercontent.com/adhollander/FSLschemas/main/fsisupp.owl#habitat_type', 'habitat type', 'habtypedict', 'm'),\n",
        "            \"Ecological Process\": ('d', 'https://raw.githubusercontent.com/adhollander/FSLschemas/main/fsisupp.owl#ecological_process', 'ecological process', '', 's'),\n",
        "            \"Start Year\": ('d', 'http://dbpedia.org/ontology/start_year', 'startYear', '', 's'),\n",
        "            \"End Year\": ('d', 'http://dbpedia.org/ontology/end_year', 'endYear', '', 's'),\n",
        "            \"Funding\": ('o', 'http://purl.org/cerif/frapo/is_funded_by', 'isFundedBy', 'org','m'),\n",
        "            \"Latitude\": ('d', 'https://www.w3.org/2003/01/geo/wgs84_pos#latitude', 'latitude', '', 's'),\n",
        "            \"Longitude\": ('d', 'https://www.w3.org/2003/01/geo/wgs84_pos#longitude', 'longitude', '', 's'),\n",
        "            \"FSL doc\": ('u', 'https://raw.githubusercontent.com/adhollander/FSLschemas/main/fsisupp.owl#FSL_doc', 'FSL doc', '', 's'),\n",
        "            \"Use Case (Meat)\": ('d', 'https://raw.githubusercontent.com/adhollander/FSLschemas/main/fsisupp.owl#use_case_meat', 'use case: meat', '', 's'),\n",
        "            \"Use Case (EPA)\": ('d', 'https://raw.githubusercontent.com/adhollander/FSLschemas/main/fsisupp.owl#use_case_EPA', 'use case: EPA', '', 's'),\n",
        "            \"Use Case (JPA)\": ('d', 'https://raw.githubusercontent.com/adhollander/FSLschemas/main/fsisupp.owl#use_case_JPA', 'use case: JPA','', 's')    \n",
        "}"
      ],
      "metadata": {
        "id": "7uA-qomZ_X7P"
      },
      "execution_count": null,
      "outputs": []
    },
    {
      "cell_type": "code",
      "source": [
        "# program predicates dictionary\n",
        "progpred = {\n",
        "            \"Program\": ('d', 'http://vivoweb.org/ontology/core#Program', 'program', '', 's'),    \n",
        "            \"Alias\":   ('d', 'http://www.w3.org/2004/02/skos/core#alias', 'alias', '', 's'),\n",
        "            \"ProgType\": ('v', 'https://raw.githubusercontent.com/adhollander/FSLschemas/main/fsisupp.owl#program_type', 'program type', 'progtypedict', 'm'),\n",
        "            \"Organization\": ('o', 'https://raw.githubusercontent.com/adhollander/FSLschemas/main/fsisupp.owl#lead_organization', 'lead organization', 'org', 'm'),\n",
        "            \"Partners\": ('o', 'http://vivoweb.org/ontology/core#affiliated_organization', 'partner organization', 'org', 'm'),\n",
        "            \"Issues\": ('v', 'https://raw.githubusercontent.com/adhollander/FSLschemas/main/fsisupp.owl#related_sustainability_issue', 'related sustainability issue', 'issuedict', 'm'),\n",
        "            \"Lead Individual\": ('d', 'https://raw.githubusercontent.com/adhollander/FSLschemas/main/fsisupp.owl#lead_individual', 'lead individual', '', 's'),\n",
        "            \"GM_Name\": ('o', 'https://raw.githubusercontent.com/adhollander/FSLschemas/main/fsisupp.owl#guideline_mandate_name', 'guideline/mandate name', 'gmt', 'm'),\n",
        "            \"County\": ('v', 'https://raw.githubusercontent.com/adhollander/FSLschemas/main/fsisupp.owl#in_county', 'in county', 'countydict', 'm'),\n",
        "            \"Ecoregion\": ('v', 'https://raw.githubusercontent.com/adhollander/FSLschemas/main/fsisupp.owl#in_ecoregion', 'in ecoregion', 'ecoregiondict', 'm'),\n",
        "            \"URL\": ('u', 'http://dev.poderopedia.com/vocab/has_url', 'has URL', '', 'm'),\n",
        "            \"Taxa\": ('d', 'https://raw.githubusercontent.com/adhollander/FSLschemas/main/fsisupp.owl#taxa', 'taxa', '', 'm'),\n",
        "            \"Use Case (Meat)\": ('d', 'https://raw.githubusercontent.com/adhollander/FSLschemas/main/fsisupp.owl#use_case_meat', 'use case: meat', '', 's'),\n",
        "            \"Use Case (EPA)\": ('d', 'https://raw.githubusercontent.com/adhollander/FSLschemas/main/fsisupp.owl#use_case_EPA', 'use case: EPA', '', 's'),\n",
        "            \"Use Case (JPA)\": ('d', 'https://raw.githubusercontent.com/adhollander/FSLschemas/main/fsisupp.owl#use_case_JPA', 'use case: JPA', '', 's'),\n",
        "            \"Use Case (SCAG)\": ('d', 'https://raw.githubusercontent.com/adhollander/FSLschemas/main/fsisupp.owl#use_case_SCAG', 'use case: SCAG', '', 's'),\n",
        "       \n",
        "}"
      ],
      "metadata": {
        "id": "NY4ECYmM_wD9"
      },
      "execution_count": null,
      "outputs": []
    },
    {
      "cell_type": "code",
      "source": [
        "personpred = {\n",
        "            \"Full Name\": ('d', 'http://xmlns.com/foaf/0.1/name', 'full name', '', 's'),\n",
        "            \"Last Name\": ('d', 'http://xmlns.com/foaf/0.1/lastName', 'last name', '', 's'),\n",
        "            \"First Name\": ('d', 'http://xmlns.com/foaf/0.1/firstName', 'first name', '', 's'),\n",
        "            \"Alias\":   ('d', 'http://www.w3.org/2004/02/skos/core#alias', 'alias', '', 's'),\n",
        "            \"Email\": ('d', 'http://xmlns.com/foaf/0.1/mbox', 'email', '', 's'),\n",
        "            \"Phone\": ('d', 'http://xmlns.com/foaf/0.1/phone', 'phone', '', 's'),\n",
        "            \"Issues\": ('v', 'https://raw.githubusercontent.com/adhollander/FSLschemas/main/fsisupp.owl#related_sustainability_issue', 'related sustainability issue', 'issuedict', 'm'),\n",
        "            \"Notes\": ('d', 'https://raw.githubusercontent.com/adhollander/FSLschemas/main/fsisupp.owl#note', 'note', '', 's'),\n",
        "            \"usecaseConservation\": ('d', 'https://raw.githubusercontent.com/adhollander/FSLschemas/main/fsisupp.owl#use_case_conservation', 'use case: Conservation', '', 's'),\n",
        "            \"usecaseMeat\": ('d', 'https://raw.githubusercontent.com/adhollander/FSLschemas/main/fsisupp.owl#use_case_meat', 'use case: meat', '', 's'),\n",
        "            \"usecaseSac\": ('d', 'https://raw.githubusercontent.com/adhollander/FSLschemas/main/fsisupp.owl#use_case_sacramento', 'use case: Sacramento', '', 's'),\n",
        "            \"usecaseSCAG\": ('d', 'https://raw.githubusercontent.com/adhollander/FSLschemas/main/fsisupp.owl#use_case_SCAG', 'use case: SCAG', '', 's'),\n",
        "            \"usecaseEcuador\": ('d', 'https://raw.githubusercontent.com/adhollander/FSLschemas/main/fsisupp.owl#use_case_ecuador', 'use case: Ecuador', '', 's'),\n",
        "            \"usecaseBayAreaRAMP\": ('d', 'https://raw.githubusercontent.com/adhollander/FSLschemas/main/fsisupp.owl#use_case_bay_area_RAMP', 'use case: Bay Area RAMP', '', 's'),\n",
        "\n",
        "}"
      ],
      "metadata": {
        "id": "CZFrbE3CAZgN"
      },
      "execution_count": null,
      "outputs": []
    },
    {
      "cell_type": "code",
      "source": [
        "personorgpred = {\n",
        "            \"Full Name\": ('o', 'http://purl.obolibrary.org/obo/has_participant', 'has participant', 'per', 's'),\n",
        "            \"Organization\": ('o', 'http://purl.obolibrary.org/obo/role_of', 'role of', 'org', 's'),\n",
        "            \"Position (Verbatim)\": ('d', 'http://purl.org/dc/terms/title', 'title', '', 'd'),\n",
        "            \"Position (Type)\": ('o', 'https://raw.githubusercontent.com/adhollander/FSLschemas/main/fsisupp.owl#position_type', 'position type', 'positiontypedict', 'm'),\n",
        "            \"Year (Start)\": ('d', 'http://dbpedia.org/ontology/start_year', 'startYear', '', 'd' ),\n",
        "            \"Year (End)\": ('d', 'http://dbpedia.org/ontology/end_year', 'endYear',  '', 'd')\n",
        "}"
      ],
      "metadata": {
        "id": "bAe1XefIAbs5"
      },
      "execution_count": null,
      "outputs": []
    },
    {
      "cell_type": "code",
      "source": [
        "personprojpred = {\n",
        "            \"Full Name\": ('o', 'http://purl.obolibrary.org/obo/has_participant', 'has participant', 'per', 's'),\n",
        "            \"Project\": ('o', 'http://purl.obolibrary.org/obo/involved_in', 'involved in', 'prj', 's'),\n",
        "            #\"ProjRole\": ('o', 'http://purl.obolibrary.org/obo/has_role', 'has role', 'projroledict', 's'),\n",
        "            \"ProjRole\": ('d', 'http://purl.obolibrary.org/obo/has_role', 'has role', '', 's'),\n",
        "\n",
        "}"
      ],
      "metadata": {
        "id": "Kwgh2sA9Adfe"
      },
      "execution_count": null,
      "outputs": []
    },
    {
      "cell_type": "code",
      "source": [
        "personprogrampred = {\n",
        "            \"Full Name\": ('o', 'http://purl.obolibrary.org/obo/has_participant', 'has participant', 'per', 's'),\n",
        "            \"Program\": ('o', 'http://purl.obolibrary.org/obo/involved_in', 'involved in', 'prg', 's'),\n",
        "            \"Role\": ('d', 'http://purl.obolibrary.org/obo/has_role', 'has role', '', 's'),\n",
        "            #\"Role\": ('v', 'http://purl.obolibrary.org/obo/RO_0000087', 'has role', 'progroledict', 's'),\n",
        "            \"Role (Type)\": ('u', 'https://raw.githubusercontent.com/adhollander/FSLschemas/main/fsisupp.owl#role_type', 'role type', '', 's'), # not sure what Patrick is doing with this.\n",
        "            \"Year (Start)\": ('d', 'http://dbpedia.org/ontology/start_year', 'start year', '', 's'),\n",
        "            \"Year (End)\": ('d', 'http://dbpedia.org/ontology/end_year', 'end year', '', 's')\n",
        "}\n",
        "\n"
      ],
      "metadata": {
        "id": "5cjI776RAfF_"
      },
      "execution_count": null,
      "outputs": []
    },
    {
      "cell_type": "code",
      "source": [
        "guidelinespred = {\n",
        "            \"GM_Name\": ('d', 'http://purl.org/dc/terms/name', 'Name', '', 's'),\n",
        "            \"Alias\": ('d', 'http://www.w3.org/2004/02/skos/core#alias', 'alias', '', 's'),\n",
        "            \"GMType\": ('v', 'https://raw.githubusercontent.com/adhollander/FSLschemas/main/fsisupp.owl#guideline_mandate_name', 'guideline/mandate type', 'gmtypedict', 'm'),\n",
        "            \"Year\": ('d', 'http://purl.org/dc/terms/date', 'date', '', 's'), \n",
        "            \"Issues\": ('v', 'https://raw.githubusercontent.com/adhollander/FSLschemas/main/fsisupp.owl#related_sustainability_issue', 'related sustainability issue', 'issuedict', 'm'),\n",
        "            \"GovLevel\": ('v', 'https://raw.githubusercontent.com/adhollander/FSLschemas/main/fsisupp.owl#government_level', 'government level', 'govleveldict', 'm'),\n",
        "            \"Counties\": ('v', 'https://raw.githubusercontent.com/adhollander/FSLschemas/main/fsisupp.owl#in_county', 'in county', 'countydict', 'm'),\n",
        "            \"Ecoregions\": ('v', 'https://raw.githubusercontent.com/adhollander/FSLschemas/main/fsisupp.owl#in_ecoregion', 'in ecoregion', 'ecoregiondict', 'm'),\n",
        "            \"URL\": ('u', 'http://dev.poderopedia.com/vocab/has_url', 'has URL', '', 's'),\n",
        "            \"Taxa\": ('d', 'https://raw.githubusercontent.com/adhollander/FSLschemas/main/fsisupp.owl#taxa', 'taxa', '', 's'),\n",
        "            \"Land Cover - CWHR\": ('v', 'https://raw.githubusercontent.com/adhollander/FSLschemas/main/fsisupp.owl#habitat_type', 'habitat type', 'habtypedict', 'm'),\n",
        "            \"Ecological Process\": ('d', 'https://raw.githubusercontent.com/adhollander/FSLschemas/main/fsisupp.owl#ecological_process', 'ecological process', '', 's'),\n",
        "            \"Use Case (Meat)\":('d', 'https://raw.githubusercontent.com/adhollander/FSLschemas/main/fsisupp.owl#use_case_meat', 'use case: meat', '', 's'),\n",
        "            \"Use Case (EPA)\": ('d', 'https://raw.githubusercontent.com/adhollander/FSLschemas/main/fsisupp.owl#use_case_EPA', 'use case: EPA', '', 's'),\n",
        "            \"Use Case (JPA)\": ('d', 'https://raw.githubusercontent.com/adhollander/FSLschemas/main/fsisupp.owl#use_case_JPA', 'use case: JPA','', 's')\n",
        "}"
      ],
      "metadata": {
        "id": "r5yT8CKWAg30"
      },
      "execution_count": null,
      "outputs": []
    },
    {
      "cell_type": "code",
      "source": [
        "# this has different logic! Patrick is basically encoding triples here, and the dictionary below\n",
        "# is the lookup for the second column\n",
        "orggmpred = {\n",
        "            \"Created\": ('o', 'http://iflastandards.info/ns/fr/frbr/frbrer/creator_of', 'creator of'), # oh look, FRBRer!\n",
        "            \"Was Created By\": ('o', 'http://iflastandards.info/ns/fr/frbr/frbrer/was_created_by', 'was created by'),\n",
        "            \"Implements\": ('o',  'https://w3id.org/dingo#implements', 'implements'), # DINGO is (another) projects and grants ontology \n",
        "            \"Mandates\": ('o', 'https://raw.githubusercontent.com/adhollander/FSLschemas/main/fsisupp.owl#mandates', 'mandates'),\n",
        "            \"Is Bound By\": ('o', 'https://raw.githubusercontent.com/adhollander/FSLschemas/main/fsisupp.owl#is_bound_by', 'is bound by'),\n",
        "            \"Funds Established By\": ('o', 'http://vivoweb.org/ontology/core#has_funding_vehicle', 'has funding vehicle'),  \n",
        "            \"Is Certified By\": ('o', 'https://raw.githubusercontent.com/adhollander/FSLschemas/main/fsisupp.owl#is_certified_by', 'is certified by'),\n",
        "            \"Enforces\": ('o', 'https://raw.githubusercontent.com/adhollander/FSLschemas/main/fsisupp.owl#enforces', 'enforces'),\n",
        "\n",
        "}"
      ],
      "metadata": {
        "id": "OopQUNVVAmKM"
      },
      "execution_count": null,
      "outputs": []
    },
    {
      "cell_type": "code",
      "source": [
        "# somewhat different logic for this table as well. columns C, D, E in this table form a class that\n",
        "# whose instances the GMs in column A point to with predicate in column B. The entries in this \n",
        "# dictionary are for columns C, D, and E\n",
        "orgprojgmpred = {\n",
        "            \"Organization\": ('o', 'http://purl.obolibrary.org/obo/has_participant', 'has participant', 'org', 's'),\n",
        "            \"OrgProjRelation\": ('o', 'http://purl.obolibrary.org/obo/has_role', 'has role', 'orgprojrelationdict', 's'),\n",
        "            \"Project\": ('o', 'http://purl.obolibrary.org/obo/involved_in', 'involved in', 'prj', 's'),\n",
        "}"
      ],
      "metadata": {
        "id": "00RhYFNYAqkZ"
      },
      "execution_count": null,
      "outputs": []
    },
    {
      "cell_type": "code",
      "source": [
        "datasetpred = {\n",
        "            \"Name\":  ('d', 'http://purl.org/dc/terms/title', 'title', '', 's'),\n",
        "            \"Organization (Created By)\": ('o', 'http://iflastandards.info/ns/fr/frbr/frbrer/was_created_by', 'was created by', 'org', 's'),\n",
        "            \"Issues\": ('v', 'https://raw.githubusercontent.com/adhollander/FSLschemas/main/fsisupp.owl#related_sustainability_issue', 'related sustainability issue', 'issuedict', 'm'),\n",
        "            \"GM_Name\":  ('o', 'https://raw.githubusercontent.com/adhollander/FSLschemas/main/fsisupp.owl#mandated_by', 'mandated by', 'gmt', 'm'),\n",
        "            \"URL\":  ('u', 'http://dev.poderopedia.com/vocab/has_url', 'has URL', '', 's'),\n",
        "            \"Use Case (Meat)\": ('d', 'https://raw.githubusercontent.com/adhollander/FSLschemas/main/fsisupp.owl#use_case_meat', 'use case: meat', '', 's'),\n",
        "            \"Use Case (JPA)\": ('d', 'https://raw.githubusercontent.com/adhollander/FSLschemas/main/fsisupp.owl#use_case_JPA', 'use case: JPA', '', 's'),\n",
        "            \"Use Case (EPA)\": ('d', 'https://raw.githubusercontent.com/adhollander/FSLschemas/main/fsisupp.owl#use_case_EPA', 'use case: EPA', '', 's')\n",
        "    \n",
        "}"
      ],
      "metadata": {
        "id": "nGFigKkuA621"
      },
      "execution_count": null,
      "outputs": []
    },
    {
      "cell_type": "code",
      "source": [
        "toolpred = {\n",
        "            \"Tool\": ('d', 'http://purl.org/dc/terms/title', 'title', '', 's'),\n",
        "            \"Alias\": ('d', 'http://www.w3.org/2004/02/skos/core#alias', 'alias', '', 's'),\n",
        "            \"Organization\":  ('o', 'http://iflastandards.info/ns/fr/frbr/frbrer/was_created_by', 'was created by', 'org', 's'),\n",
        "            \"Issues\":  ('v', 'https://raw.githubusercontent.com/adhollander/FSLschemas/main/fsisupp.owl#related_sustainability_issue', 'related sustainability issue', 'issuedict', 'm'),\n",
        "            \"inDataset\": ('o', 'http://purl.obolibrary.org/obo/has_input', 'has input', 'dts', 'm'),\n",
        "            \"outDataset\": ('o', 'http://purl.obolibrary.org/obo/has_output', 'has output', 'dts', 'm'),\n",
        "            \"ToolDetails\": ('d', 'http://purl.org/dc/terms/references', 'references', '', 's'),\n",
        "            \"URL\": ('u', 'http://dev.poderopedia.com/vocab/has_url', 'has URL', '', 's')\n",
        "}"
      ],
      "metadata": {
        "id": "MtF7XEsGA9f5"
      },
      "execution_count": null,
      "outputs": []
    },
    {
      "cell_type": "code",
      "source": [
        "# We're added the list of use cases as a dictionary. They are referred to in the spreadsheet\n",
        "# as separate columns but we want to use a single predicate to reference these \n",
        "# i.e. \"in use case\" --> \"Meat processing\"\n",
        "usecases = { \"usecaseConservation\": ('https://raw.githubusercontent.com/adhollander/FSLschemas/main/CA_PPODterms.ttl#usecaseConservation', 'Conservation use case'),\n",
        "            \"usecaseMeat\": ('https://raw.githubusercontent.com/adhollander/FSLschemas/main/CA_PPODterms.ttl#use_case_meat', 'Meat use case'),\n",
        "            \"usecaseSac\": ('https://raw.githubusercontent.com/adhollander/FSLschemas/main/CA_PPODterms.ttl#use_case_sacramento', 'Sacramento case'),\n",
        "            \"usecaseSCAG\": ('https://raw.githubusercontent.com/adhollander/FSLschemas/main/CA_PPODterms.ttl#use_case_SCAG', 'SCAG use case'),\n",
        "            \"usecaseEcuador\": ('https://raw.githubusercontent.com/adhollander/FSLschemas/main/CA_PPODterms.ttl#use_case_ecuador', 'Ecuador use case'),\n",
        "            \"usecaseBayAreaRAMP\": ('https://raw.githubusercontent.com/adhollander/FSLschemas/main/CA_PPODterms.ttl#use_case_bay_area_RAMP', 'Bay Area RAMP use case'),\n",
        "            \"Use Case (Meat)\":('https://raw.githubusercontent.com/adhollander/FSLschemas/main/CA_PPODterms.ttl#use_case_meat', 'Meat use case'),\n",
        "            \"Use Case (EPA)\": ('https://raw.githubusercontent.com/adhollander/FSLschemas/main/CA_PPODterms.ttl#use_case_EPA', 'EPA use case'),\n",
        "            \"Use Case (JPA)\": ('https://raw.githubusercontent.com/adhollander/FSLschemas/main/CA_PPODterms.ttl#use_case_JPA', 'JPA use case'), \n",
        "            \"Use Case (SCAG)\":  ('https://raw.githubusercontent.com/adhollander/FSLschemas/main/CA_PPODterms.ttl#use_case_SCAG', 'SCAG use case')\n",
        "}\n"
      ],
      "metadata": {
        "id": "zWGetgDMA_bi"
      },
      "execution_count": null,
      "outputs": []
    },
    {
      "cell_type": "code",
      "source": [
        "# Let's create a minihash function for unique identifiers. I figure 24 bits is big enough (6 hex digits).\n",
        "# I'm just going to use crc32 and truncate the last two digits.\n",
        "# I figure I will use this as identifier suffixes for all these text names that are too long to abbreviate. E.g. 'Yuba County Resource Conservation District' becomes `CaPPOD:org_fb822f` using the `makeid` function.\n",
        "# Example: makeid('Audubon California') returns '167f6c'\n",
        "def makeid(s):\n",
        "    hexid = hex(binascii.crc32(bytes(s.encode(\"utf-8\"))))[2:8] \n",
        "    return hexid"
      ],
      "metadata": {
        "id": "i2Aw_EWNBC8F"
      },
      "execution_count": null,
      "outputs": []
    },
    {
      "cell_type": "code",
      "source": [
        "# Return a dictionary giving the URI for a particular vocabulary term\n",
        "# Parameters:\n",
        "# vocabdframe - data frame with vocabulary information\n",
        "# vocabdfstr - string giving column name of particular vocab\n",
        "# auxprefix - base URI of location for terms\n",
        "# prefixstr - 3 letter prefix string indicating entity class e.g. 'prj' = project\n",
        "def makevocabdict(vocabdframe, vocabdfstr, auxprefix, prefixstr):\n",
        "    vrole = vocabdframe[vocabdfstr]\n",
        "    vdict = {}\n",
        "    for i in range(vrole.shape[0]):\n",
        "        s = vrole[i]\n",
        "        if len(s) > 0:\n",
        "            vdict.update({s : auxprefix + prefixstr + \"_\"  + makeid(s)})\n",
        "    return vdict"
      ],
      "metadata": {
        "id": "sJNudhyCBMTH"
      },
      "execution_count": null,
      "outputs": []
    },
    {
      "cell_type": "code",
      "source": [
        "# Add vocabulary dictionary to the RDF graph by giving rdfs:label s to the vocab URI terms\n",
        "# Parameters: dicttoadd - the dictionary being added to the graph\n",
        "# gr - the RDF graph being added to\n",
        "# labeluri - the base URI for RDF schema\n",
        "def adddicttograph(dicttoadd, gr, labeluri):\n",
        "    #print(\"inadddictograph with \", labeluri)\n",
        "    for k in dicttoadd.keys():\n",
        "        subj = rdflib.URIRef(dicttoadd[k])\n",
        "        pred = rdflib.URIRef(labeluri + 'label')\n",
        "        if dicttoadd == countydict:\n",
        "            obj = rdflib.Literal(k + ' County')\n",
        "        else:\n",
        "            obj = rdflib.Literal(k)\n",
        "        # print(k)\n",
        "        gr.add((subj, pred, obj))"
      ],
      "metadata": {
        "id": "bJYut4FoCvn-"
      },
      "execution_count": null,
      "outputs": []
    },
    {
      "cell_type": "code",
      "source": [
        "# add a triple (or multiples maybe) to the graph g based on details in describing predicate\n",
        "# \n",
        "# Parameters:\n",
        "# g - the RDF graph being assembled\n",
        "# prdetails - the 5-element tuple from the predicate dictionary describing the predicate being added\n",
        "# subjval - a string giving the subject of the RDF triple\n",
        "# cellval - a string indicating the object of the RDF triple (may be comma-delimited)\n",
        "# subjectstr - a string describing subject for KeyError reporting\n",
        "def addtriple(g, prdetails, subjval, cellval, subjectstr):\n",
        "    # print(subjval, cellval)\n",
        "    subj =  rdflib.URIRef(subjval)\n",
        "    if cellval == 'All':\n",
        "        if prdetails[3] == 'countydict':\n",
        "            cellval = ','.join(countydict.keys())    \n",
        "        elif prdetails[3] == 'ecoregiondict':\n",
        "            cellval = ','.join(ecoregiondict.keys())\n",
        "    if prdetails[4] == 'm':\n",
        "        celllist = [s.strip() for s in cellval.split(',')]\n",
        "    else:\n",
        "        celllist = [cellval]\n",
        "    for cell in celllist:\n",
        "        if prdetails[0] == 'd':\n",
        "            pred = rdflib.URIRef(prdetails[1])\n",
        "            if 'usecase' in prdetails[1]:\n",
        "                if cell == 'X' or cell == 'x':\n",
        "                    pred = rdflib.URIRef(fslsprefix + \"usecase\")\n",
        "                    obj = rdflib.URIRef(prdetails[1])\n",
        "            else:\n",
        "                if prdetails[3] == 'countydict':\n",
        "                    cell = cell + \" County\"\n",
        "                obj = rdflib.Literal(cell)\n",
        "            g.add((subj, pred, obj))\n",
        "        elif prdetails[0] == 'v':\n",
        "            try:\n",
        "                obj = rdflib.URIRef(eval(prdetails[3])[cell])\n",
        "                pred = rdflib.URIRef(prdetails[1])\n",
        "                g.add((subj, pred, obj))\n",
        "            except KeyError:\n",
        "                print(subjectstr + \": \" + cell + \" not in \" + prdetails[3])\n",
        "                pass\n",
        "        elif prdetails[0] == 'o':\n",
        "            pred = rdflib.URIRef(prdetails[1])\n",
        "            obj = rdflib.URIRef( auxprefix + prdetails[3] + \"_\" + makeid(cell))\n",
        "            g.add((subj, pred, obj))\n",
        "        elif prdetails[0] == 'u':\n",
        "            pred = rdflib.URIRef(prdetails[1])\n",
        "            obj = rdflib.URIRef(cell)\n",
        "            g.add((subj, pred, obj))"
      ],
      "metadata": {
        "id": "x3otv80yrLzA"
      },
      "execution_count": null,
      "outputs": []
    },
    {
      "cell_type": "code",
      "source": [
        "##### Actions #####\n",
        "\n",
        "\n",
        "# get authorization to access Google Sheets\n",
        "# use creds to create a client to interact with the Google Drive API\n",
        "\n",
        "# from google.colab import auth\n",
        "# auth.authenticate_user()\n",
        "# import gspread\n",
        "# from oauth2client.client import GoogleCredentials\n",
        "# gc = gspread.authorize(GoogleCredentials.get_application_default())\n",
        "\n",
        "from google.colab import auth\n",
        "auth.authenticate_user()\n",
        "\n",
        "import gspread\n",
        "from google.auth import default\n",
        "creds, _ = default()\n",
        "\n",
        "gc = gspread.authorize(creds)\n",
        "\n",
        "gsworkbook = gc.open_by_url('https://docs.google.com/spreadsheets/d/197-eSDKERc3aewmgvS7yxCAPEgEdfyQ4C3Dil9TeBgE/edit#gid=1544766872')\n",
        "\n",
        "\n",
        "# get pointers to all the relevant sheets\n",
        "vocab_sheet = gsworkbook.worksheet('Vocabularies')\n",
        "organizations_sheet = gsworkbook.worksheet('Organizations')\n",
        "projects_sheet = gsworkbook.worksheet('Projects')\n",
        "program_sheet = gsworkbook.worksheet('Programs')\n",
        "people_sheet = gsworkbook.worksheet('People')\n",
        "peopleorgs_sheet = gsworkbook.worksheet('PeopleOrg')\n",
        "peopleproj_sheet = gsworkbook.worksheet('PeopleProj')\n",
        "peopleprogram_sheet = gsworkbook.worksheet('PeopleProgram')\n",
        "guidelines_sheet = gsworkbook.worksheet('Guidelines_Mandates')\n",
        "orggm_sheet = gsworkbook.worksheet('OrgGM')\n",
        "orgprojgm_sheet = gsworkbook.worksheet('OrgProjGM')\n",
        "datasets_sheet = gsworkbook.worksheet('Datasets')\n",
        "tools_sheet = gsworkbook.worksheet('Tools')\n",
        "futureresources_sheet = gsworkbook.worksheet('Future Resources')\n",
        "intissues_sheet = gsworkbook.worksheet('Issues (Integrated)')\n",
        "compissues_sheet = gsworkbook.worksheet('Issues (Component)')\n",
        "\n",
        "# convert these to data frames\n",
        "vocabdf = pd.DataFrame(vocab_sheet.get_all_records())\n",
        "orgdf = pd.DataFrame(organizations_sheet.get_all_records())\n",
        "projdf = pd.DataFrame(projects_sheet.get_all_records())\n",
        "progdf = pd.DataFrame(program_sheet.get_all_records())\n",
        "peopledf = pd.DataFrame(people_sheet.get_all_records())\n",
        "peopleorgdf = pd.DataFrame(peopleorgs_sheet.get_all_records())\n",
        "peopleprojdf = pd.DataFrame(peopleproj_sheet.get_all_records())\n",
        "peopleprogramdf = pd.DataFrame(peopleprogram_sheet.get_all_records())\n",
        "guidelinesdf = pd.DataFrame(guidelines_sheet.get_all_records())\n",
        "orggmdf = pd.DataFrame(orggm_sheet.get_all_records())\n",
        "orgprojgmdf = pd.DataFrame(orgprojgm_sheet.get_all_records())\n",
        "datasetdf = pd.DataFrame(datasets_sheet.get_all_records())\n",
        "tooldf = pd.DataFrame(tools_sheet.get_all_records())\n",
        "intissuedf = pd.DataFrame(intissues_sheet.get_all_records())\n",
        "compissuedf = pd.DataFrame(compissues_sheet.get_all_records())\n",
        "\n"
      ],
      "metadata": {
        "id": "ZDh5RuGmCyak"
      },
      "execution_count": null,
      "outputs": []
    },
    {
      "cell_type": "code",
      "source": [
        "# Create dictionary of predicate URIs as keys and their labels as values\n",
        "predlabeldict = {}\n",
        "predsbyclasslist = [orgpred, projpred, progpred, personpred, personorgpred, personprojpred, personprogrampred, guidelinespred,orggmpred, orgprojgmpred, datasetpred, toolpred]\n",
        "for predsbyclass in predsbyclasslist:\n",
        "    for pred0 in predsbyclass.keys():\n",
        "        pred0val = predsbyclass[pred0]\n",
        "        pred0URI = pred0val[1]\n",
        "        pred0label = pred0val[2]\n",
        "        if pred0URI not in predlabeldict: # the first in is the winner\n",
        "            predlabeldict[pred0URI] = pred0label"
      ],
      "metadata": {
        "id": "rAxazYHbC6Qd"
      },
      "execution_count": null,
      "outputs": []
    },
    {
      "cell_type": "code",
      "source": [
        "intissuedict = {}\n",
        "intissueprefix = \"https://raw.githubusercontent.com/adhollander/FSLschemas/main/sustsource.owl#\"\n",
        "\n",
        "for i in range(intissuedf.shape[0]):\n",
        "    #print(intissuedf.iloc[i,0], intissuedf.iloc[i,1])\n",
        "    intissuedict.update( {intissuedf.iloc[i,1] : intissueprefix + intissuedf.iloc[i,0] })\n",
        "\n",
        "\n",
        "# Now for the component issues\n",
        "compissuedict = {}\n",
        "compissueprefix = \"https://raw.githubusercontent.com/adhollander/FSLschemas/main/sustsourceindiv.rdf#\"\n",
        "for i in range(compissuedf.shape[0]):\n",
        "    compissuedict.update( {compissuedf.iloc[i,1] : compissueprefix + compissuedf.iloc[i,0] })\n",
        "\n",
        "\n",
        "# we want to merge these two dictionaries\n",
        "global issuedict\n",
        "issuedict = {**compissuedict , **intissuedict} "
      ],
      "metadata": {
        "id": "uUX4FicO0x1S"
      },
      "execution_count": null,
      "outputs": []
    },
    {
      "cell_type": "code",
      "source": [
        "# #### Counties\n",
        "# After some search, have opted to use Wikidata URIs for the California counties. I grabbed these from Wikidata using their SPARQL query interface.\n",
        "counties_wd = pd.read_csv(\"/content/gdrive/My Drive/ICICLE-Visual Analytics/Code/CACounties_WD.csv\")\n",
        "global countydict # I am aware this is poor style, thank you, but I need to handle the \"All\" county issue\n",
        "countydict = {}\n",
        "for i in range(counties_wd.shape[0]):\n",
        "    countydict.update( {counties_wd.iloc[i,1] : counties_wd.iloc[i,0] })"
      ],
      "metadata": {
        "id": "yE_ADhYs1zEO"
      },
      "execution_count": null,
      "outputs": []
    },
    {
      "cell_type": "code",
      "source": [
        "# For the rest of these vocabulary columns I'm going to use my minihash function.\n",
        "# Ecoregions\n",
        "ecoregions = vocabdf['Ecoregion_USDA']\n",
        "global ecoregiondict # likewise on the poor style\n",
        "ecoregiondict = {}\n",
        "for i in range(1, ecoregions.shape[0]):\n",
        "    s = ecoregions[i]\n",
        "    if len(s) > 0:\n",
        "        ecoregiondict.update( {s : auxprefix + \"eco_\" + makeid(s)})"
      ],
      "metadata": {
        "id": "c3BK4BZodpdv"
      },
      "execution_count": null,
      "outputs": []
    },
    {
      "cell_type": "code",
      "source": [
        "# habitat type, use CWHR here\n",
        "cwhrdf = pd.read_csv('/content/gdrive/My Drive/ICICLE-Visual Analytics/Code/CWHR_Habitat_Lookup_Table.csv')\n",
        "global habtypedict\n",
        "habtypedict = {}\n",
        "for i in range(cwhrdf.shape[0]):\n",
        "    habtypedict.update( {cwhrdf.iloc[i,0] : 'https://raw.githubusercontent.com/adhollander/FSLschemas/main/CA_PPODterms.ttl#whr_' + cwhrdf.iloc[i,0] })"
      ],
      "metadata": {
        "id": "S9Sb8ep-cBt6"
      },
      "execution_count": null,
      "outputs": []
    },
    {
      "cell_type": "code",
      "source": [
        "global orgtypedict\n",
        "orgtypedict = makevocabdict(vocabdf, 'OrgType', auxprefix, 'oty')\n",
        "global orgactivitydict\n",
        "orgactivitydict = makevocabdict(vocabdf, 'OrgActivity', auxprefix, 'oac')\n",
        "global projtypedict\n",
        "projtypedict = makevocabdict(vocabdf, 'ProjType', auxprefix, 'pjt')\n",
        "global progtypedict\n",
        "progtypedict = makevocabdict(vocabdf, 'ProgType', auxprefix, 'pgt')\n",
        "global gmtypedict\n",
        "gmtypedict = makevocabdict(vocabdf, 'GMType', auxprefix, 'gmn')\n",
        "global govleveldict\n",
        "govleveldict = makevocabdict(vocabdf, 'GovLevel', auxprefix, 'gvl')\n",
        "global positiontypedict\n",
        "positiontypedict = makevocabdict(vocabdf, 'PositionType', auxprefix, 'pst')\n",
        "global projroledict\n",
        "projroledict = makevocabdict(vocabdf, 'PeopleProjRole', auxprefix, 'prl')\n",
        "global orggmrelationdict\n",
        "orggmrelationdict = makevocabdict(vocabdf, 'orgGMRelation', auxprefix, 'pst') # is prefix correct?\n",
        "# orgGMRelation - might handle this in different manner - these are properties. But I'll create the dict for now.\n",
        "# #### Actually, the above is redundant\n",
        "global orgprojrelationdict\n",
        "orgprojrelationdict = makevocabdict(vocabdf, 'orgProjRelation', auxprefix, 'prl') \n",
        "# orgProjRelation - this may be redundant as well, but for completeness....\n",
        "global geofeaturedict\n",
        "geofeaturedict = makevocabdict(vocabdf, 'GeoFeature', auxprefix, 'geo')\n",
        "global commoditydict\n",
        "commoditydict = makevocabdict(vocabdf, 'Commodity', auxprefix, 'cmd')"
      ],
      "metadata": {
        "id": "k6ZffjdUcb3v"
      },
      "execution_count": null,
      "outputs": []
    },
    {
      "cell_type": "code",
      "source": [
        "#add vocabulary to the graph\n",
        "g = rdflib.Graph()\n",
        "list(map(lambda d: adddicttograph(d, g, rdfsuri), [ecoregiondict, issuedict, countydict, habtypedict, orgtypedict, orgactivitydict, projtypedict, progtypedict, gmtypedict, govleveldict, positiontypedict, projroledict, orggmrelationdict, orgprojrelationdict, geofeaturedict, commoditydict]))\n"
      ],
      "metadata": {
        "colab": {
          "base_uri": "https://localhost:8080/"
        },
        "id": "V-WxyPcldKFW",
        "outputId": "f8ff7b21-ae7f-42de-c88a-19849a8397cc"
      },
      "execution_count": null,
      "outputs": [
        {
          "output_type": "execute_result",
          "data": {
            "text/plain": [
              "[None,\n",
              " None,\n",
              " None,\n",
              " None,\n",
              " None,\n",
              " None,\n",
              " None,\n",
              " None,\n",
              " None,\n",
              " None,\n",
              " None,\n",
              " None,\n",
              " None,\n",
              " None,\n",
              " None,\n",
              " None]"
            ]
          },
          "metadata": {},
          "execution_count": 39
        }
      ]
    },
    {
      "cell_type": "code",
      "source": [
        "# now add the labels for the predicates\n",
        "for k in predlabeldict.keys():\n",
        "    subj = rdflib.URIRef(k)\n",
        "    pred = rdflib.URIRef(rdfsuri + 'label')\n",
        "    obj = rdflib.Literal(predlabeldict[k])\n",
        "    g.add((subj, pred, obj))"
      ],
      "metadata": {
        "id": "aquy8zlPdPms"
      },
      "execution_count": null,
      "outputs": []
    },
    {
      "cell_type": "code",
      "source": [
        "# Add triples for the organizations\n",
        "for r in range(orgdf.shape[0]):\n",
        "    orgname = orgdf.iloc[r,0] \n",
        "    subjval = auxprefix + \"org_\" + makeid(orgname)\n",
        "    g.add((rdflib.URIRef(subjval), rdflib.URIRef(rdfuri + 'type'), rdflib.URIRef(PPODrefs['Organizations'])))\n",
        "    g.add((rdflib.URIRef(subjval), rdflib.URIRef(rdfsuri + 'label'), rdflib.Literal(orgname)))\n",
        "    for c in range(orgdf.shape[1]):\n",
        "        colname = orgdf.columns[c]\n",
        "        # print(colname)\n",
        "        cellval = orgdf.iloc[r,c]\n",
        "        if orgpred[colname][0]=='d' and cellval == '':\n",
        "          cellval += \" \"\n",
        "        if cellval != '':\n",
        "          # g, entity type, uri, cell_value, organization name\n",
        "            addtriple(g, orgpred[colname], subjval, cellval, orgname) "
      ],
      "metadata": {
        "id": "PejWmrA4nInQ",
        "colab": {
          "base_uri": "https://localhost:8080/"
        },
        "outputId": "cd41540c-7573-45b0-becf-a2885e619e41"
      },
      "execution_count": null,
      "outputs": [
        {
          "output_type": "stream",
          "name": "stdout",
          "text": [
            "5 Bar Beef: cattle not in commoditydict\n",
            "Alexandre Family Farm: milk products not in commoditydict\n",
            "Arroyo Seco Foundation: Arroyo Seco not in geofeaturedict\n",
            "Autonomy Farms: chickens not in commoditydict\n",
            "Autonomy Farms: sheep not in commoditydict\n",
            "Autonomy Farms: cattle not in commoditydict\n",
            "Autonomy Farms: swine not in commoditydict\n",
            "Avenales Ranch: cattle not in commoditydict\n",
            "Avenales Ranch: wine grapes not in commoditydict\n",
            "Avenales Ranch: wines not in commoditydict\n",
            "Bar-Roq Ranch: cattle not in commoditydict\n",
            "Bar-Roq Ranch: hay not in commoditydict\n",
            "Barbell Farm: swine not in commoditydict\n",
            "Barbell Farm: eggs not in commoditydict\n",
            "Barbell Farm: chickens not in commoditydict\n",
            "Bates Grass-Fed Beef: cattle not in commoditydict\n",
            "Bear Creek Ranch: cattle not in commoditydict\n",
            "Bear River Valley Beef: cattle not in commoditydict\n",
            "Blue Oaks Ranch: cattle not in commoditydict\n",
            "Blue Oaks Ranch: sheep not in commoditydict\n",
            "Brite Creek Farm: chickens not in commoditydict\n",
            "Brite Creek Farm: cattle not in commoditydict\n",
            "Brite Creek Farm: eggs not in commoditydict\n",
            "Bruin Ranch: cattle not in commoditydict\n",
            "Brunner Family Farm: eggs not in commoditydict\n",
            "Brunner Family Farm: chickens not in commoditydict\n",
            "Brunner Family Farm: swine not in commoditydict\n",
            "California Cattlemen’s Association: cattle not in commoditydict\n",
            "Canyon Creek Grass-Fed Beef: cattle not in commoditydict\n",
            "Chaparral Lands Conservancy: CRP not in habtypedict\n",
            "Chileno Valley Ranch: apples not in commoditydict\n",
            "Chileno Valley Ranch: cattle not in commoditydict\n",
            "Chileno Valley Ranch: sheep not in commoditydict\n",
            "Circle Ranch SimAngus Seedstock: cattle not in commoditydict\n",
            "Coachella Valley Association of Governments: Coachella Valley not in geofeaturedict\n",
            "Coachella Valley Conservation Commission: Coachella Valley not in geofeaturedict\n",
            "Coachella Valley Mountains Conservancy: Coachella Valley not in geofeaturedict\n",
            "Coachella Valley Resource Conservation District: Coachella Valley not in geofeaturedict\n",
            "Coachella Valley Waterkeeper: Coachella Valley not in geofeaturedict\n",
            "Connolly Ranch: cattle not in commoditydict\n",
            "Corral de Tierra Cattle Company: cattle not in commoditydict\n",
            "Cosumnes American Bear Yuba Integrated Regional Water Management Group: Bear River not in geofeaturedict\n",
            "Cow Track Ranch: cattle not in commoditydict\n",
            "Crest Point Farms: cattle not in commoditydict\n",
            "Crest Point Farms: eggs not in commoditydict\n",
            "Crest Point Farms: chickens not in commoditydict\n",
            "Crest Point Farms: swine not in commoditydict\n",
            "Da-Le Ranch: cattle not in commoditydict\n",
            "Da-Le Ranch: sheep not in commoditydict\n",
            "Da-Le Ranch: chicken not in commoditydict\n",
            "Da-Le Ranch: eggs not in commoditydict\n",
            "Deer Creek and Tule River Authority: Tule River not in geofeaturedict\n",
            "Devil's Gulch Ranch: wine grapes not in commoditydict\n",
            "Devil's Gulch Ranch: eggs not in commoditydict\n",
            "Devil's Gulch Ranch: rabbits not in commoditydict\n",
            "Devil's Gulch Ranch: chickens not in commoditydict\n",
            "Devil's Gulch Ranch: swine not in commoditydict\n",
            "Devil's Gulch Ranch: sheep not in commoditydict\n",
            "Diamond B Ranch: chickens not in commoditydict\n",
            "Diamond B Ranch: swine not in commoditydict\n",
            "Diamond B Ranch: turkeys not in commoditydict\n",
            "Diamond B Ranch: cattle not in commoditydict\n",
            "Diamond B Ranch: eggs not in commoditydict\n",
            "Diamond Mountain Ranch: swine not in commoditydict\n",
            "Diamond Mountain Ranch: turkeys not in commoditydict\n",
            "Diamond Mountain Ranch: rabbits not in commoditydict\n",
            "Diamond Mountain Ranch: goats not in commoditydict\n",
            "Diamond Mountain Ranch: chickens not in commoditydict\n",
            "Diamond Mountain Ranch: yaks not in commoditydict\n",
            "Diamond Mountain Ranch: cattle not in commoditydict\n",
            "Diamond Mountain Ranch: bison not in commoditydict\n",
            "Divide Ranch: cattle not in commoditydict\n",
            "Dolcini Ranching: cattle not in commoditydict\n",
            "Eel River Organic Beef: cattle not in commoditydict\n",
            "Family Friendly Farms: chickens not in commoditydict\n",
            "Family Friendly Farms: cattle not in commoditydict\n",
            "Family Friendly Farms: turkeys not in commoditydict\n",
            "Family Friendly Farms: sheep not in commoditydict\n",
            "Fiery Ginger Farm: chickens not in commoditydict\n",
            "Fiery Ginger Farm: swine not in commoditydict\n",
            "Fisher Ranch: cattle not in commoditydict\n",
            "Five Dot Ranch: cattle not in commoditydict\n",
            "Five Mile Ranch: cattle not in commoditydict\n",
            "Forest Lake Farms: cattle not in commoditydict\n",
            "Fouch Farms: cattle not in commoditydict\n",
            "French Ranch Farms: chickens not in commoditydict\n",
            "French Ranch Farms: cattle not in commoditydict\n",
            "French Ranch Farms: eggs not in commoditydict\n",
            "French Ranch Farms: apples not in commoditydict\n",
            "Genesee Valley Ranch: cattle not in commoditydict\n",
            "Gorrill Ranch: walnuts not in commoditydict\n",
            "Gorrill Ranch: pecans not in commoditydict\n",
            "Green Star Farm: goats not in commoditydict\n",
            "Green Star Farm: eggs not in commoditydict\n",
            "Green Star Farm: chickens not in commoditydict\n",
            "Green Star Farm: sheep not in commoditydict\n",
            "Green Star Farm: swine not in commoditydict\n",
            "Hearst Ranch: cattle not in commoditydict\n",
            "Hensleigh Healthy Beef: cattle not in commoditydict\n",
            "Holding Ranch: cattle not in commoditydict\n",
            "Hole-in-One Ranch: cattle not in commoditydict\n",
            "Hole-in-One Ranch: sheep not in commoditydict\n",
            "Hole-in-One Ranch: swine not in commoditydict\n",
            "Horn Ranch: cattle not in commoditydict\n",
            "Humboldt Grassfed Beef: cattle not in commoditydict\n",
            "Isbell Mountain Acres: cattle not in commoditydict\n",
            "Isbell Mountain Acres: garlic not in commoditydict\n",
            "Isbell Mountain Acres: goats not in commoditydict\n",
            "JSM Organics: soft fruits not in commoditydict\n",
            "K Arrow Ranch: cattle not in commoditydict\n",
            "Keeler Community Service District: Owens Lake not in geofeaturedict\n",
            "Klamath River Inter-Tribal Fish & Water Commission: Klamath River not in geofeaturedict\n",
            "Lakeside's River Park Conservancy: San Diego River not in geofeaturedict\n",
            "Land O' Lakes: milk products not in commoditydict\n",
            "LeftCoast GrassFed: cattle not in commoditydict\n",
            "Liberty Ducks: ducks not in commoditydict\n",
            "Live Power Community Farm: sheep not in commoditydict\n",
            "Live Power Community Farm: cattle not in commoditydict\n",
            "Live Power Community Farm: corn not in commoditydict\n",
            "Los Angeles County Business Federation: Tariffs Taxes Subsidies not in issuedict\n",
            "Mahon Ranch: cattle not in commoditydict\n",
            "Marin Sun Farms: swine not in commoditydict\n",
            "Marin Sun Farms: chickens not in commoditydict\n",
            "Marin Sun Farms: cattle not in commoditydict\n",
            "Marin Sun Farms: sheep not in commoditydict\n",
            "Marin Sun Farms: goats not in commoditydict\n",
            "Marin Sun Farms: eggs not in commoditydict\n",
            "Mariposa Ranch: cattle not in commoditydict\n",
            "Mariposa Ranch: chickens not in commoditydict\n",
            "Markegard Family Grass-Fed: cattle not in commoditydict\n",
            "Markegard Family Grass-Fed: chickens not in commoditydict\n",
            "Markegard Family Grass-Fed: swine not in commoditydict\n",
            "Markegard Family Grass-Fed: sheep not in commoditydict\n",
            "McLane Family Farms: swine not in commoditydict\n",
            "McLane Family Farms: cattle not in commoditydict\n",
            "McLane Family Farms: sheep not in commoditydict\n",
            "Mindful Meats: cattle not in commoditydict\n",
            "Novy Ranches: cattle not in commoditydict\n",
            "Old Creek Ranch: cattle not in commoditydict\n",
            "Open Field Farm: eggs not in commoditydict\n",
            "Open Field Farm: cattle not in commoditydict\n",
            "Open Field Farm: sheep not in commoditydict\n",
            "Orvis Cattle Company: cattle not in commoditydict\n",
            "Outlaw Valley Ranch: sheep not in commoditydict\n",
            "Owens Lake Scientific Advisory Panel: Owens Lake not in geofeaturedict\n",
            "Owens Valley Committee: Owens Valley not in geofeaturedict\n",
            "Owens Valley Indian Water Commission: Owens Valley not in geofeaturedict\n",
            "Prather Ranch: cattle not in commoditydict\n",
            "PT Ranch: turkeys not in commoditydict\n",
            "PT Ranch: swine not in commoditydict\n",
            "PT Ranch: sheep not in commoditydict\n",
            "PT Ranch: chickens not in commoditydict\n",
            "PT Ranch: ducks not in commoditydict\n",
            "Reclamation District 150: Merritt Island not in geofeaturedict\n",
            "Red Gate Ranch: cattle not in commoditydict\n",
            "Red Gate Ranch: swine not in commoditydict\n",
            "Redhouse Beef: cattle not in commoditydict\n",
            "Redhouse Beef: chickens not in commoditydict\n",
            "Redhouse Beef: swine not in commoditydict\n",
            "Renz Ranch: cattle not in commoditydict\n",
            "Rice/Sparrowk: cattle not in commoditydict\n",
            "Richardson Ranch: sheep not in commoditydict\n",
            "Richardson Ranch: cattle not in commoditydict\n",
            "Rosotti Ranch: cattle not in commoditydict\n",
            "Rosotti Ranch: chickens not in commoditydict\n",
            "Rosotti Ranch: goats not in commoditydict\n",
            "Rosotti Ranch: ducks not in commoditydict\n",
            "Rusty Hinges Ranch: swine not in commoditydict\n",
            "Rusty Hinges Ranch: cattle not in commoditydict\n",
            "Rusty Hinges Ranch: eggs not in commoditydict\n",
            "Rusty Hinges Ranch: milk products not in commoditydict\n",
            "Sage Mountain Beef: sheep not in commoditydict\n",
            "Sage Mountain Beef: cattle not in commoditydict\n",
            "Sage Mountain Beef: swine not in commoditydict\n",
            "Salmon Creek Ranch: ducks not in commoditydict\n",
            "Salmon Creek Ranch: geese not in commoditydict\n",
            "Salmon Creek Ranch: cattle not in commoditydict\n",
            "Salmon Creek Ranch: goats not in commoditydict\n",
            "Salmon Creek Ranch: eggs not in commoditydict\n",
            "Save Auburn Ravine Salmon and Steelhead: Auburn Ravine not in geofeaturedict\n",
            "Sierra Nevada Poultry: turkeys not in commoditydict\n",
            "Sierra Nevada Poultry: chickens not in commoditydict\n",
            "Silva Ranch: cattle not in commoditydict\n",
            "Skyelark Ranch: chickens not in commoditydict\n",
            "Skyelark Ranch: swine not in commoditydict\n",
            "Skyelark Ranch: sheep not in commoditydict\n",
            "Skyelark Ranch: eggs not in commoditydict\n",
            "Sohnrey Family Foods: walnuts not in commoditydict\n",
            "SoMar Farms: cattle not in commoditydict\n",
            "SoMar Farms: sheep not in commoditydict\n",
            "SonRise Ranch: chickens not in commoditydict\n",
            "SonRise Ranch: cattle not in commoditydict\n",
            "SonRise Ranch: swine not in commoditydict\n",
            "Spring Coyote Ranch: sheep not in commoditydict\n",
            "Stemple Creek Ranch: swine not in commoditydict\n",
            "Stemple Creek Ranch: cattle not in commoditydict\n",
            "Stemple Creek Ranch: sheep not in commoditydict\n",
            "Stonyford Ranch: cattle not in commoditydict\n",
            "Summit Creek Ranch: cattle not in commoditydict\n",
            "Summit Creek Ranch: sheep not in commoditydict\n",
            "Swanton Pacific Ranch: cattle not in commoditydict\n",
            "Swanton Pacific Ranch: apples not in commoditydict\n",
            "Table Bluff Farm: swine not in commoditydict\n",
            "Table Bluff Farm: eggs not in commoditydict\n",
            "Tara Firma Farms: swine not in commoditydict\n",
            "Tara Firma Farms: chickens not in commoditydict\n",
            "Tara Firma Farms: eggs not in commoditydict\n",
            "Tara Firma Farms: turkeys not in commoditydict\n",
            "Tara Firma Farms: cattle not in commoditydict\n",
            "Tawanda Farms: cattle not in commoditydict\n",
            "Tawanda Farms: sheep not in commoditydict\n",
            "Tehama Angus Ranch: cattle not in commoditydict\n",
            "Teixeira Cattle Co.: cattle not in commoditydict\n",
            "Tejon Ranch: cattle not in commoditydict\n",
            "Templeton Hills Beef: cattle not in commoditydict\n",
            "The Wonderful Company: pomegranites not in commoditydict\n",
            "Three Sons Farm: eggs not in commoditydict\n",
            "Three Sons Farm: chickens not in commoditydict\n",
            "TomKat Ranch: cattle not in commoditydict\n",
            "Tri-Dam Project: Stanislaus River not in geofeaturedict\n",
            "True Grass Farms: cattle not in commoditydict\n",
            "Turner Grass Fed Beef: cattle not in commoditydict\n",
            "TX Bar GrassFed Cattle Company: cattle not in commoditydict\n",
            "Under the Oaks Ranch: cattle not in commoditydict\n",
            "USDA Agricultural Marketing Service: Market Standards not in issuedict\n",
            "USDA Agricultural Marketing Service: Regulations not in issuedict\n",
            "USDA Agricultural Marketing Service: and Policies not in issuedict\n",
            "Watkins Cattle Company: cattle not in commoditydict\n",
            "Wild Oat Hollow: sheep not in commoditydict\n",
            "Wild Oat Hollow: goats not in commoditydict\n",
            "Wild Oat Hollow: eggs not in commoditydict\n",
            "Wild Oat Hollow: chickens not in commoditydict\n",
            "Wild Willow Farm and Education Center: Tijuana River not in geofeaturedict\n",
            "Wolf Creek Community Alliance: Wolf Creek not in geofeaturedict\n",
            "Yolo Land & Cattle Co.: cattle not in commoditydict\n"
          ]
        }
      ]
    },
    {
      "cell_type": "code",
      "source": [
        "# Programs\n",
        "for r in range(progdf.shape[0]):\n",
        "    progname = progdf.iloc[r,0] \n",
        "    subjval = auxprefix + \"prg_\" + makeid(progname)\n",
        "    g.add((rdflib.URIRef(subjval), rdflib.URIRef(rdfuri + 'type'), rdflib.URIRef(PPODrefs['Programs'])))\n",
        "    g.add((rdflib.URIRef(subjval), rdflib.URIRef(rdfsuri + 'label'), rdflib.Literal(progname)))\n",
        "    for c in range(progdf.shape[1]):  \n",
        "        colname = progdf.columns[c]\n",
        "        cellval = progdf.iloc[r,c]\n",
        "        if progpred[colname][0]=='d' and cellval == '':\n",
        "          cellval += \" \"\n",
        "        if cellval != '':\n",
        "            addtriple(g, progpred[colname], subjval, cellval, progname) "
      ],
      "metadata": {
        "id": "20LwhrTbGsDq"
      },
      "execution_count": null,
      "outputs": []
    },
    {
      "cell_type": "code",
      "source": [
        "# Projects\n",
        "for r in range(projdf.shape[0]):\n",
        "    projname = projdf.iloc[r,0] \n",
        "    subjval = auxprefix + \"prj_\" + makeid(projname)\n",
        "    g.add((rdflib.URIRef(subjval), rdflib.URIRef(rdfuri + 'type'), rdflib.URIRef(PPODrefs['Projects'])))\n",
        "    g.add((rdflib.URIRef(subjval), rdflib.URIRef(rdfsuri + 'label'), rdflib.Literal(projname)))\n",
        "    for c in range(projdf.shape[1]): \n",
        "        colname = projdf.columns[c]\n",
        "        cellval = projdf.iloc[r,c]\n",
        "        if projpred[colname][0]=='d' and cellval == '':\n",
        "          cellval += \" \"\n",
        "        if cellval != '':\n",
        "          addtriple(g, projpred[colname], subjval, cellval, projname) "
      ],
      "metadata": {
        "colab": {
          "base_uri": "https://localhost:8080/"
        },
        "id": "p04m2HlhHByT",
        "outputId": "a3ead574-d2ef-40bc-bb58-fb46860a6ac1"
      },
      "execution_count": null,
      "outputs": [
        {
          "output_type": "stream",
          "name": "stdout",
          "text": [
            "Doty Ravine Preserve: vernal pools not in habtypedict\n"
          ]
        }
      ]
    },
    {
      "cell_type": "code",
      "source": [
        "# People\n",
        "for r in range(peopledf.shape[0]):\n",
        "    pername = peopledf.iloc[r,0] \n",
        "    subjval = auxprefix + \"per_\" + makeid(pername)\n",
        "    g.add((rdflib.URIRef(subjval), rdflib.URIRef(rdfuri + 'type'), rdflib.URIRef(PPODrefs['People'])))\n",
        "    g.add((rdflib.URIRef(subjval), rdflib.URIRef(rdfsuri + 'label'), rdflib.Literal(pername)))\n",
        "    for c in range(peopledf.shape[1]):  \n",
        "        colname = peopledf.columns[c]\n",
        "        cellval = peopledf.iloc[r,c]\n",
        "        if personpred[colname][0]=='d' and cellval == '':\n",
        "          cellval += \" \"\n",
        "        if cellval != '':\n",
        "          addtriple(g, personpred[colname], subjval, cellval, pername) "
      ],
      "metadata": {
        "id": "LajV9BjuHNDU"
      },
      "execution_count": null,
      "outputs": []
    },
    {
      "cell_type": "code",
      "source": [
        "g.add((rdflib.URIRef('http://purl.obolibrary.org/obo/Role'), rdflib.URIRef(rdfsuri + 'label'), rdflib.Literal('Role')))\n",
        "# People-orgs\n",
        "for r in range(peopleorgdf.shape[0]):\n",
        "    rolestr = peopleorgdf.iloc[r,0] + peopleorgdf.iloc[r,1] + peopleorgdf.iloc[r,2]\n",
        "    subjval = auxprefix + \"rol_\" + makeid(rolestr)\n",
        "    g.add((rdflib.URIRef(subjval), rdflib.URIRef(rdfsuri + 'label'), rdflib.Literal(peopleorgdf.iloc[r,2])))\n",
        "    g.add((rdflib.URIRef(subjval), rdflib.URIRef(rdfuri + 'type'), rdflib.URIRef('http://purl.obolibrary.org/obo/Role')))\n",
        "    for c in range(peopleorgdf.shape[1]):  \n",
        "        colname = peopleorgdf.columns[c]\n",
        "        cellval = peopleorgdf.iloc[r,c]\n",
        "        if c == 2: # we have cases where there is no role info in the Position (verbatim) column but there is in the Position (type) column\n",
        "            if cellval == '':\n",
        "                print(\"empty string\")\n",
        "                cellval = peopleorgdf.iloc[r,3]\n",
        "            if cellval == '':\n",
        "                cellval = 'Unstated role'\n",
        "        if personorgpred[colname][0]=='d' and cellval == '':\n",
        "          cellval += \" \"\n",
        "        if cellval != '':\n",
        "            addtriple(g, personorgpred[colname], subjval, cellval, rolestr) \n"
      ],
      "metadata": {
        "id": "OAVNMaR4Mgda",
        "colab": {
          "base_uri": "https://localhost:8080/"
        },
        "outputId": "fbd32ffe-81e1-4d2c-807c-7e4547531295"
      },
      "execution_count": null,
      "outputs": [
        {
          "output_type": "stream",
          "name": "stdout",
          "text": [
            "empty string\n",
            "empty string\n",
            "empty string\n",
            "empty string\n",
            "empty string\n",
            "empty string\n",
            "empty string\n",
            "empty string\n",
            "empty string\n",
            "empty string\n",
            "empty string\n",
            "empty string\n",
            "empty string\n",
            "empty string\n",
            "empty string\n",
            "empty string\n",
            "empty string\n",
            "empty string\n",
            "empty string\n",
            "empty string\n",
            "empty string\n",
            "empty string\n",
            "empty string\n",
            "empty string\n",
            "empty string\n",
            "empty string\n",
            "empty string\n",
            "empty string\n",
            "empty string\n",
            "empty string\n",
            "empty string\n",
            "empty string\n",
            "empty string\n",
            "empty string\n",
            "empty string\n",
            "empty string\n",
            "empty string\n",
            "empty string\n",
            "empty string\n",
            "empty string\n",
            "empty string\n",
            "empty string\n",
            "empty string\n",
            "empty string\n",
            "empty string\n",
            "empty string\n",
            "empty string\n",
            "empty string\n",
            "empty string\n",
            "empty string\n",
            "empty string\n",
            "empty string\n",
            "empty string\n",
            "empty string\n",
            "empty string\n",
            "empty string\n",
            "empty string\n",
            "empty string\n",
            "empty string\n",
            "empty string\n",
            "empty string\n",
            "empty string\n",
            "empty string\n",
            "empty string\n",
            "empty string\n",
            "empty string\n",
            "empty string\n",
            "empty string\n",
            "empty string\n",
            "empty string\n",
            "empty string\n",
            "empty string\n",
            "empty string\n",
            "empty string\n",
            "empty string\n",
            "empty string\n",
            "empty string\n",
            "empty string\n",
            "empty string\n",
            "empty string\n",
            "empty string\n",
            "empty string\n",
            "empty string\n",
            "empty string\n"
          ]
        }
      ]
    },
    {
      "cell_type": "code",
      "source": [
        "# People-proj\n",
        "for r in range(peopleprojdf.shape[0]):\n",
        "    if peopleprojdf.iloc[r,2] == '':\n",
        "        newrole = 'Participant'\n",
        "    else:\n",
        "        newrole = peopleprojdf.iloc[r,2]\n",
        "    rolestr = peopleprojdf.iloc[r,0] + peopleprojdf.iloc[r,1] + newrole  \n",
        "    #pername = peopleprojdf.iloc[r,0] \n",
        "    subjval = auxprefix + \"rol_\" + makeid(rolestr)\n",
        "    g.add((rdflib.URIRef(subjval), rdflib.URIRef(rdfsuri + 'label'), rdflib.Literal(newrole)))\n",
        "    g.add((rdflib.URIRef(subjval), rdflib.URIRef(rdfuri + 'type'), rdflib.URIRef('http://purl.obolibrary.org/obo/Role')))    \n",
        "    for c in range(peopleprojdf.shape[1]):  \n",
        "        colname = peopleprojdf.columns[c]\n",
        "        cellval = peopleprojdf.iloc[r,c]\n",
        "        if personprojpred[colname][0]=='d' and cellval == '':\n",
        "          cellval += \" \"\n",
        "        if cellval != '':\n",
        "            addtriple(g, personprojpred[colname], subjval, cellval, rolestr) "
      ],
      "metadata": {
        "id": "aU6Uri-4NkfS"
      },
      "execution_count": null,
      "outputs": []
    },
    {
      "cell_type": "code",
      "source": [
        "# People-program\n",
        "for r in range(peopleprogramdf.shape[0]):\n",
        "    rolestr = peopleorgdf.iloc[r,0] + peopleorgdf.iloc[r,1] + peopleorgdf.iloc[r,2]\n",
        "    #pername = peopleprogramdf.iloc[r,0] \n",
        "    subjval = auxprefix + \"rol_\" + makeid(rolestr)\n",
        "    g.add((rdflib.URIRef(subjval), rdflib.URIRef(rdfsuri + 'label'), rdflib.Literal(peopleorgdf.iloc[r,2])))\n",
        "    g.add((rdflib.URIRef(subjval), rdflib.URIRef(rdfuri + 'type'), rdflib.URIRef('http://purl.obolibrary.org/obo/Role')))    \n",
        "    for c in range(peopleprogramdf.shape[1]):\n",
        "        colname = peopleprogramdf.columns[c]\n",
        "        cellval = peopleprogramdf.iloc[r,c]\n",
        "        if personprogrampred[colname][0]=='d' and cellval == '':\n",
        "          cellval += \" \"\n",
        "        if cellval != '':\n",
        "            addtriple(g, personprogrampred[colname], subjval, cellval, rolestr) "
      ],
      "metadata": {
        "id": "I4jupO0HN5TC"
      },
      "execution_count": null,
      "outputs": []
    },
    {
      "cell_type": "code",
      "source": [
        "# guidelines/mandates\n",
        "for r in range(guidelinesdf.shape[0]):\n",
        "    pername = guidelinesdf.iloc[r,0] \n",
        "    subjval = auxprefix + \"gmt_\" + makeid(pername)\n",
        "    g.add((rdflib.URIRef(subjval), rdflib.URIRef(rdfsuri + 'label'), rdflib.Literal(pername)))\n",
        "    g.add((rdflib.URIRef(subjval), rdflib.URIRef(rdfuri + 'type'), rdflib.URIRef(PPODrefs['Guidelines_Mandates'])))        \n",
        "    for c in range(guidelinesdf.shape[1]): \n",
        "        colname = guidelinesdf.columns[c]\n",
        "        cellval = guidelinesdf.iloc[r,c]\n",
        "        if guidelinespred[colname][0]=='d' and cellval == '':\n",
        "          cellval += \" \"\n",
        "        if cellval != '':\n",
        "            addtriple(g, guidelinespred[colname], subjval, cellval, pername) "
      ],
      "metadata": {
        "id": "O9xEQVZ-OABP"
      },
      "execution_count": null,
      "outputs": []
    },
    {
      "cell_type": "code",
      "source": [
        "# organizations - guidelines/mandates\n",
        "# different logic here, the table is of triples\n",
        "for r in range(orggmdf.shape[0]):\n",
        "    orgname = orggmdf.iloc[r,0] \n",
        "    subjval = auxprefix + \"org_\" + makeid(orgname)\n",
        "    pred = orggmpred[orggmdf.iloc[r,1]][1]\n",
        "    objval = auxprefix + \"gmt_\" + makeid(orggmdf.iloc[r,2]) \n",
        "    g.add((rdflib.URIRef(subjval), rdflib.URIRef(pred), rdflib.URIRef(objval)))"
      ],
      "metadata": {
        "id": "ijFl7pkhOdyt"
      },
      "execution_count": null,
      "outputs": []
    },
    {
      "cell_type": "code",
      "source": [
        "# somewhat different logic for this table as well. columns C, D, E in this table form a class that\n",
        "# whose instances the GMs in column A point to with predicate in column B. The entries in this \n",
        "# dictionary are for columns C, D, and E  --- from above\n",
        "for r in range(orgprojgmdf.shape[0]):\n",
        "    rolestr = orgprojgmdf.iloc[r,2] + orgprojgmdf.iloc[r,3] + orgprojgmdf.iloc[r,4]\n",
        "    roleval = auxprefix + \"rol_\" + makeid(rolestr)\n",
        "    g.add((rdflib.URIRef(roleval), rdflib.URIRef(rdfsuri + 'label'), rdflib.Literal(orgprojgmdf.iloc[r,3])))\n",
        "    g.add((rdflib.URIRef(roleval), rdflib.URIRef(rdfuri + 'type'), rdflib.URIRef('http://purl.obolibrary.org/obo/Role')))\n",
        "    gmname = orgprojgmdf.iloc[r,0] \n",
        "    subjval = auxprefix + \"gmt_\" + makeid(gmname)\n",
        "    pred = orggmrelationdict[orgprojgmdf.iloc[r,1]]                                                                            \n",
        "    objval = roleval\n",
        "    g.add((rdflib.URIRef(subjval), rdflib.URIRef(pred), rdflib.URIRef(objval)))"
      ],
      "metadata": {
        "id": "TZNu_CB5Oq7V"
      },
      "execution_count": null,
      "outputs": []
    },
    {
      "cell_type": "code",
      "source": [
        "# datasets\n",
        "for r in range(datasetdf.shape[0]):\n",
        "    pername = datasetdf.iloc[r,0] \n",
        "    subjval = auxprefix + \"dat_\" + makeid(pername)\n",
        "    g.add((rdflib.URIRef(subjval), rdflib.URIRef(rdfuri + 'type'), rdflib.URIRef(PPODrefs['Datasets'])))\n",
        "    g.add((rdflib.URIRef(subjval), rdflib.URIRef(rdfsuri + 'label'), rdflib.Literal(pername)))\n",
        "    for c in range(datasetdf.shape[1]): \n",
        "        colname = datasetdf.columns[c]\n",
        "        cellval = datasetdf.iloc[r,c]\n",
        "        if datasetpred[colname][0]=='d' and cellval == '':\n",
        "          cellval += \" \"\n",
        "        if cellval != '':\n",
        "            addtriple(g, datasetpred[colname], subjval, cellval, pername) "
      ],
      "metadata": {
        "id": "YBlcgdWHOwKc"
      },
      "execution_count": null,
      "outputs": []
    },
    {
      "cell_type": "code",
      "source": [
        "# tools\n",
        "for r in range(tooldf.shape[0]):\n",
        "  pername = tooldf.iloc[r,0] \n",
        "  subjval = auxprefix + \"tol_\" + makeid(pername)\n",
        "  g.add((rdflib.URIRef(subjval), rdflib.URIRef(rdfuri + 'type'), rdflib.URIRef(PPODrefs['Tools'])))\n",
        "  g.add((rdflib.URIRef(subjval), rdflib.URIRef(rdfsuri + 'label'), rdflib.Literal(pername)))\n",
        "  for c in range(tooldf.shape[1]):  \n",
        "      colname = tooldf.columns[c]\n",
        "      cellval = tooldf.iloc[r,c]\n",
        "      if toolpred[colname][0]=='d' and cellval == '':\n",
        "          cellval += \" \"\n",
        "      if cellval != '':\n",
        "          addtriple(g, toolpred[colname], subjval, cellval, pername) "
      ],
      "metadata": {
        "id": "xluwW2cWO2Vg"
      },
      "execution_count": null,
      "outputs": []
    },
    {
      "cell_type": "code",
      "source": [
        "g.serialize(format=\"turtle\", destination=\"/content/gdrive/My Drive/ICICLE-Visual Analytics/Code/PPOD7.ttl\")"
      ],
      "metadata": {
        "id": "tBkB_IrmgUxk",
        "colab": {
          "base_uri": "https://localhost:8080/"
        },
        "outputId": "6d20dcca-0cd2-4225-ad4b-5f620d8d8c46"
      },
      "execution_count": null,
      "outputs": [
        {
          "output_type": "execute_result",
          "data": {
            "text/plain": [
              "<Graph identifier=N97a3b1b20ef946f3b40f1d1b5a72359a (<class 'rdflib.graph.Graph'>)>"
            ]
          },
          "metadata": {},
          "execution_count": 57
        }
      ]
    },
    {
      "cell_type": "code",
      "source": [
        ""
      ],
      "metadata": {
        "id": "BO9pHbqaiVyu"
      },
      "execution_count": null,
      "outputs": []
    },
    {
      "cell_type": "code",
      "source": [
        ""
      ],
      "metadata": {
        "id": "bqRW-6u0iMtC"
      },
      "execution_count": null,
      "outputs": []
    },
    {
      "cell_type": "code",
      "source": [
        ""
      ],
      "metadata": {
        "id": "hjet5mtmUnRp"
      },
      "execution_count": null,
      "outputs": []
    },
    {
      "cell_type": "code",
      "source": [
        ""
      ],
      "metadata": {
        "id": "aUBdXx_V4qNE"
      },
      "execution_count": null,
      "outputs": []
    },
    {
      "cell_type": "code",
      "source": [
        ""
      ],
      "metadata": {
        "id": "KO73nOOVGB7Z"
      },
      "execution_count": null,
      "outputs": []
    }
  ]
}