{
 "cells": [
  {
   "cell_type": "code",
   "execution_count": 15,
   "id": "0bf8e1bf",
   "metadata": {},
   "outputs": [],
   "source": [
    "from telnetlib import ENCRYPT\n",
    "from flask import Flask, jsonify, request,Response\n",
    "from neo4j import GraphDatabase, basic_auth\n",
    "from flask_cors import CORS\n",
    "import json\n",
    "from neo4j import GraphDatabase\n",
    "from py2neo import Graph\n",
    "from py2neo import Subgraph\n",
    "import py2neo\n",
    "from helper import filterGraph, print_, get_subgraph, convert_subgraph_to_json"
   ]
  },
  {
   "cell_type": "code",
   "execution_count": 23,
   "id": "2ffe47d1",
   "metadata": {},
   "outputs": [],
   "source": [
    "graph = Graph(\"bolt://localhost:7687\", auth=(\"neo4j\", \"123\"))"
   ]
  },
  {
   "cell_type": "code",
   "execution_count": 24,
   "id": "3ed6ba8f",
   "metadata": {},
   "outputs": [],
   "source": [
    "nodes_list = [36, 87, 98, 130, 137, 187, 221, 268, 342, 395]\n",
    "relations_list = []"
   ]
  },
  {
   "cell_type": "code",
   "execution_count": 25,
   "id": "6eaf6bb7",
   "metadata": {},
   "outputs": [],
   "source": [
    "subgraph_res = get_subgraph(graph, nodes_list, relations_list)"
   ]
  },
  {
   "cell_type": "code",
   "execution_count": 26,
   "id": "82e1d01e",
   "metadata": {},
   "outputs": [
    {
     "data": {
      "text/plain": [
       "Subgraph({}, {})"
      ]
     },
     "execution_count": 26,
     "metadata": {},
     "output_type": "execute_result"
    }
   ],
   "source": [
    "subgraph_res"
   ]
  },
  {
   "cell_type": "code",
   "execution_count": null,
   "id": "9902b565",
   "metadata": {},
   "outputs": [],
   "source": []
  }
 ],
 "metadata": {
  "kernelspec": {
   "display_name": "Python 3",
   "language": "python",
   "name": "python3"
  },
  "language_info": {
   "codemirror_mode": {
    "name": "ipython",
    "version": 3
   },
   "file_extension": ".py",
   "mimetype": "text/x-python",
   "name": "python",
   "nbconvert_exporter": "python",
   "pygments_lexer": "ipython3",
   "version": "3.8.8"
  }
 },
 "nbformat": 4,
 "nbformat_minor": 5
}
